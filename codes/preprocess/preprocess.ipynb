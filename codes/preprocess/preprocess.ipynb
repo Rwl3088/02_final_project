{
 "cells": [
  {
   "cell_type": "code",
   "execution_count": null,
   "metadata": {},
   "outputs": [],
   "source": [
    "import matplotlib.pyplot as plt\n",
    "import numpy as np\n",
    "import os\n",
    "import pandas as pd\n",
    "import seaborn as sns\n",
    "import sys\n",
    "\n",
    "sns.set_style('white')\n",
    "plt.rcParams['savefig.facecolor'] = 'w'"
   ]
  },
  {
   "cell_type": "code",
   "execution_count": null,
   "metadata": {},
   "outputs": [],
   "source": [
    "samples = ['pbmc6k', 'pbmc8k','human_brain']\n",
    "prefix = samples[]\n",
    "prefix"
   ]
  },
  {
   "cell_type": "code",
   "execution_count": null,
   "metadata": {},
   "outputs": [],
   "source": [
    "os.chdir('/B_ALL/')\n",
    "sys.path.append(os.path.abspath('/B_ALL/script/'))\n",
    "from scRNA_package import *\n",
    "from scran_normalize import *"
   ]
  },
  {
   "cell_type": "code",
   "execution_count": null,
   "metadata": {},
   "outputs": [],
   "source": [
    "data_path =\n",
    "out_dir = os.path.join('CG_project', 'processed_data', prefix)\n",
    "\n",
    "data = fullpath_closure(data_path)\n",
    "out = fullpath_closure(out_dir)"
   ]
  },
  {
   "cell_type": "code",
   "execution_count": null,
   "metadata": {},
   "outputs": [],
   "source": [
    "import scanpy as sc\n",
    "sc.settings.verbosity = 3\n",
    "sc.settings.set_figure_params(dpi=150, dpi_save=150)\n",
    "sc.settings.figdir = out('fig_supp')"
   ]
  },
  {
   "cell_type": "code",
   "execution_count": null,
   "metadata": {},
   "outputs": [],
   "source": [
    "adata = sc.read(data_path + 'matrix.mtx').T\n",
    "adata.var_names = pd.read_csv(data_path + 'genes.tsv', header=None, sep='\\t')[1]\n",
    "adata.obs_names = pd.read_csv(data_path + 'barcodes.tsv', header=None)[0]\n",
    "adata.var_names_make_unique()\n",
    "adata"
   ]
  },
  {
   "cell_type": "code",
   "execution_count": null,
   "metadata": {},
   "outputs": [],
   "source": [
    "sc.pp.filter_cells(adata, min_genes=500)\n",
    "sc.pp.filter_genes(adata, min_cells=5)\n",
    "adata.obs['n_counts'] = adata.X.sum(axis=1)\n",
    "sc.pl.scatter(adata, x='n_counts', y='n_genes')"
   ]
  },
  {
   "cell_type": "code",
   "execution_count": null,
   "metadata": {},
   "outputs": [],
   "source": [
    "adata = adata[adata.obs['n_genes'] < , :]\n",
    "adata = adata[adata.obs['n_counts'] < , :]"
   ]
  },
  {
   "cell_type": "code",
   "execution_count": null,
   "metadata": {},
   "outputs": [],
   "source": [
    "#brain data cell type assignment\n",
    "metadata = pd.read_csv(\"/B_ALL/datasets/processed_data/human_brain/Front_metadata.csv\",index_col = 0)\n",
    "adata.obs['celltype'] = metadata['Celltype']"
   ]
  },
  {
   "cell_type": "code",
   "execution_count": null,
   "metadata": {},
   "outputs": [],
   "source": [
    "adata = scran_normalize(adata)\n",
    "adata.layers['sf'] = adata.X\n",
    "sc.pp.log1p(adata)\n",
    "adata.X = adata.layers['counts']\n",
    "adata.to_df().to_csv(out(f'{prefix}.qc.csv'))\n",
    "sc.get.obs_df(adata, keys=adata.obs_keys()).to_csv(\n",
    "    out(f'{prefix}.metadata.csv')\n",
    ")"
   ]
  },
  {
   "cell_type": "code",
   "execution_count": null,
   "metadata": {},
   "outputs": [],
   "source": [
    "import subprocess\n",
    "subprocess.call(\"Rscript /B_ALL/script/01.integration_liger.R\",shell=True)\n",
    "df_liger = pd.read_csv(\n",
    "    out(f'{prefix}.liger.csv'), index_col=0,\n",
    ")\n",
    "adata.obsm['X_liger'] = df_liger.loc[adata.obs_names, :].to_numpy()"
   ]
  },
  {
   "cell_type": "code",
   "execution_count": null,
   "metadata": {},
   "outputs": [],
   "source": [
    "n_pcs = {\n",
    "     'pbmc': 50,\n",
    "     'pbmc6k': 50,\n",
    "     'human_brain':50\n",
    "}[prefix]\n",
    "sc.pp.neighbors(\n",
    "    adata,\n",
    "    random_state=42,\n",
    ")\n",
    "\n",
    "#%%\n",
    "sc.tl.umap(adata, random_state=42)\n",
    "sc.pl.umap(adata, save='.batch.pdf')\n",
    "\n",
    "res_array = list(np.linspace(.01, .09, 9)) + list(np.linspace(.1, 3, 30))\n",
    "res_array = [round(r, 2) for r in res_array]\n",
    "res_array\n",
    "for res in res_array:\n",
    "    sc.tl.leiden(adata, resolution=res, key_added=f'leiden_{res}')"
   ]
  },
  {
   "cell_type": "code",
   "execution_count": null,
   "metadata": {},
   "outputs": [],
   "source": [
    "sc.pl.umap(\n",
    "    adata,\n",
    "    color=[f'leiden_{r}' for r in res_array],\n",
    "    save=f'.leiden.pdf',\n",
    "    legend_loc='on data',\n",
    "    ncols=6,\n",
    ")\n",
    "\n",
    "fname = out(f'fig_supp/{prefix}.cluster_metrics.pdf') \n",
    "plot_silhouette(adata, n_pcs, fname, rep='X_liger', algs=['leiden'], res_array=res_array)\n"
   ]
  },
  {
   "cell_type": "code",
   "execution_count": null,
   "metadata": {},
   "outputs": [],
   "source": [
    "if False:\n",
    "    pass\n",
    "elif prefix == 'pbmc6k':\n",
    "    selected = ['0.6']\n",
    "elif prefix == 'pbmc8k':\n",
    "    selected = ['0.6']\n",
    "sc.pl.umap(\n",
    "    adata,\n",
    "    color=[f'leiden_{r}' for r in selected],\n",
    "    save=f'.leiden.selected.pdf',\n",
    "    legend_loc='on data',\n",
    ")\n",
    "res_prefix = {\n",
    "    'pbmc6k': 0.6,\n",
    "    'pbmc8k': 0.3,\n",
    "}\n",
    "res = res_prefix[prefix]\n",
    "prefix, res"
   ]
  },
  {
   "cell_type": "code",
   "execution_count": null,
   "metadata": {},
   "outputs": [],
   "source": [
    "adata.obs[f'leiden_{res}'].value_counts(normalize=True)"
   ]
  },
  {
   "cell_type": "code",
   "execution_count": null,
   "metadata": {},
   "outputs": [],
   "source": [
    "sc.tl.rank_genes_groups(adata, 'leiden', groups=['0'],  method='wilcoxon',n_genes = 200)\n",
    "top_genes = pd.DataFrame(adata.uns['rank_genes_groups']['names'])\n",
    "top_genes.to_csv()"
   ]
  },
  {
   "cell_type": "code",
   "execution_count": null,
   "metadata": {},
   "outputs": [],
   "source": [
    "sc.pl.umap(adata, color=['IL7R', 'LYZ', 'MS4A1', 'GNLY', 'FCER1A', 'FCGR3A', 'CST3', 'CD8A', 'CCL5'])"
   ]
  },
  {
   "cell_type": "code",
   "execution_count": null,
   "metadata": {},
   "outputs": [],
   "source": [
    "metadata = sc.get.obs_df(adata, keys=adata.obs_keys())\n",
    "celltype = metadata['celltype']\n",
    "celltype.to_csv()"
   ]
  }
 ],
 "metadata": {
  "kernelspec": {
   "display_name": "Python 3",
   "language": "python",
   "name": "python3"
  },
  "language_info": {
   "codemirror_mode": {
    "name": "ipython",
    "version": 3
   },
   "file_extension": ".py",
   "mimetype": "text/x-python",
   "name": "python",
   "nbconvert_exporter": "python",
   "pygments_lexer": "ipython3",
   "version": "3.7.4"
  }
 },
 "nbformat": 4,
 "nbformat_minor": 4
}
